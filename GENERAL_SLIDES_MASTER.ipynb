{
 "cells": [
  {
   "cell_type": "markdown",
   "metadata": {},
   "source": [
    "# General Slides"
   ]
  },
  {
   "cell_type": "code",
   "execution_count": 1,
   "metadata": {},
   "outputs": [],
   "source": [
    "#import plotly.graph_objects as go\n",
    "#import chart_studio\n",
    "import pandas as pd\n",
    "from matplotlib import pyplot as plt\n",
    "import matplotlib as mpl\n",
    "import seaborn as sns\n",
    "import numpy as np\n",
    "\n",
    "# Import pptx libraries\n",
    "import pptx\n",
    "from pptx import Presentation\n",
    "from pptx.chart.data import CategoryChartData\n",
    "from pptx.enum.chart import XL_CHART_TYPE\n",
    "from pptx.util import Inches\n",
    "\n",
    "from pptx.dml.color import RGBColor\n",
    "from pptx.enum.dml import MSO_THEME_COLOR\n",
    "from pptx.util import Pt\n",
    "\n",
    "from pptx.enum.text import PP_ALIGN\n",
    "\n",
    "import pptx\n",
    "\n",
    "\n",
    "# Display max columns when viewing data\n",
    "pd.set_option('display.max_columns', 500)"
   ]
  },
  {
   "cell_type": "code",
   "execution_count": 2,
   "metadata": {},
   "outputs": [
    {
     "data": {
      "text/html": [
       "<div>\n",
       "<style scoped>\n",
       "    .dataframe tbody tr th:only-of-type {\n",
       "        vertical-align: middle;\n",
       "    }\n",
       "\n",
       "    .dataframe tbody tr th {\n",
       "        vertical-align: top;\n",
       "    }\n",
       "\n",
       "    .dataframe thead th {\n",
       "        text-align: right;\n",
       "    }\n",
       "</style>\n",
       "<table border=\"1\" class=\"dataframe\">\n",
       "  <thead>\n",
       "    <tr style=\"text-align: right;\">\n",
       "      <th></th>\n",
       "      <th>Q1 15</th>\n",
       "      <th>Q2 15</th>\n",
       "      <th>Q3 15</th>\n",
       "      <th>Q4 15</th>\n",
       "      <th>Q1 16</th>\n",
       "      <th>Q2 16</th>\n",
       "      <th>Q3 16</th>\n",
       "      <th>Q4 16</th>\n",
       "      <th>Q1 17</th>\n",
       "      <th>Q2 17</th>\n",
       "      <th>Q3 17</th>\n",
       "      <th>Q4 17</th>\n",
       "      <th>Q1 18</th>\n",
       "      <th>Q2 18</th>\n",
       "      <th>Q3 18</th>\n",
       "      <th>Q4 18</th>\n",
       "      <th>Q1 19</th>\n",
       "      <th>Q2 19</th>\n",
       "      <th>Q3 19</th>\n",
       "    </tr>\n",
       "    <tr>\n",
       "      <th>Account</th>\n",
       "      <th></th>\n",
       "      <th></th>\n",
       "      <th></th>\n",
       "      <th></th>\n",
       "      <th></th>\n",
       "      <th></th>\n",
       "      <th></th>\n",
       "      <th></th>\n",
       "      <th></th>\n",
       "      <th></th>\n",
       "      <th></th>\n",
       "      <th></th>\n",
       "      <th></th>\n",
       "      <th></th>\n",
       "      <th></th>\n",
       "      <th></th>\n",
       "      <th></th>\n",
       "      <th></th>\n",
       "      <th></th>\n",
       "    </tr>\n",
       "  </thead>\n",
       "  <tbody>\n",
       "    <tr>\n",
       "      <td>Total Revenue</td>\n",
       "      <td>21729.00</td>\n",
       "      <td>22180.0</td>\n",
       "      <td>20379.00</td>\n",
       "      <td>23796.00</td>\n",
       "      <td>20531.00</td>\n",
       "      <td>20614.0</td>\n",
       "      <td>21928.00</td>\n",
       "      <td>25826.0</td>\n",
       "      <td>23212.0</td>\n",
       "      <td>25605.00</td>\n",
       "      <td>24538.00</td>\n",
       "      <td>28918.00</td>\n",
       "      <td>26819.00</td>\n",
       "      <td>30085.00</td>\n",
       "      <td>29084.00</td>\n",
       "      <td>32471.00</td>\n",
       "      <td>30571.00</td>\n",
       "      <td>33717.0</td>\n",
       "      <td>33055.00</td>\n",
       "    </tr>\n",
       "    <tr>\n",
       "      <td>Gross Profit</td>\n",
       "      <td>14568.00</td>\n",
       "      <td>14712.0</td>\n",
       "      <td>13172.00</td>\n",
       "      <td>13924.00</td>\n",
       "      <td>12809.00</td>\n",
       "      <td>12635.0</td>\n",
       "      <td>14084.00</td>\n",
       "      <td>15925.0</td>\n",
       "      <td>15152.0</td>\n",
       "      <td>17560.00</td>\n",
       "      <td>16260.00</td>\n",
       "      <td>17854.00</td>\n",
       "      <td>17550.00</td>\n",
       "      <td>20343.00</td>\n",
       "      <td>19179.00</td>\n",
       "      <td>20048.00</td>\n",
       "      <td>20401.00</td>\n",
       "      <td>23305.0</td>\n",
       "      <td>22649.00</td>\n",
       "    </tr>\n",
       "    <tr>\n",
       "      <td>Operating Income</td>\n",
       "      <td>6784.00</td>\n",
       "      <td>6385.0</td>\n",
       "      <td>5793.00</td>\n",
       "      <td>6026.00</td>\n",
       "      <td>5283.00</td>\n",
       "      <td>4190.0</td>\n",
       "      <td>6715.00</td>\n",
       "      <td>7905.0</td>\n",
       "      <td>6723.0</td>\n",
       "      <td>10279.00</td>\n",
       "      <td>7708.00</td>\n",
       "      <td>8679.00</td>\n",
       "      <td>8292.00</td>\n",
       "      <td>10379.00</td>\n",
       "      <td>9955.00</td>\n",
       "      <td>10258.00</td>\n",
       "      <td>10341.00</td>\n",
       "      <td>12405.0</td>\n",
       "      <td>12686.00</td>\n",
       "    </tr>\n",
       "    <tr>\n",
       "      <td>Net Income</td>\n",
       "      <td>4985.00</td>\n",
       "      <td>-3195.0</td>\n",
       "      <td>4902.00</td>\n",
       "      <td>5018.00</td>\n",
       "      <td>3756.00</td>\n",
       "      <td>3122.0</td>\n",
       "      <td>5667.00</td>\n",
       "      <td>6267.0</td>\n",
       "      <td>5486.0</td>\n",
       "      <td>8069.00</td>\n",
       "      <td>6576.00</td>\n",
       "      <td>-6302.00</td>\n",
       "      <td>7424.00</td>\n",
       "      <td>8873.00</td>\n",
       "      <td>8824.00</td>\n",
       "      <td>8420.00</td>\n",
       "      <td>8809.00</td>\n",
       "      <td>13187.0</td>\n",
       "      <td>10678.00</td>\n",
       "    </tr>\n",
       "    <tr>\n",
       "      <td>EPS</td>\n",
       "      <td>0.61</td>\n",
       "      <td>-0.4</td>\n",
       "      <td>0.61</td>\n",
       "      <td>0.62</td>\n",
       "      <td>0.47</td>\n",
       "      <td>0.4</td>\n",
       "      <td>0.72</td>\n",
       "      <td>0.8</td>\n",
       "      <td>0.7</td>\n",
       "      <td>1.03</td>\n",
       "      <td>0.84</td>\n",
       "      <td>-0.82</td>\n",
       "      <td>0.95</td>\n",
       "      <td>1.14</td>\n",
       "      <td>1.14</td>\n",
       "      <td>1.08</td>\n",
       "      <td>1.14</td>\n",
       "      <td>1.7</td>\n",
       "      <td>1.38</td>\n",
       "    </tr>\n",
       "  </tbody>\n",
       "</table>\n",
       "</div>"
      ],
      "text/plain": [
       "                     Q1 15    Q2 15     Q3 15     Q4 15     Q1 16    Q2 16  \\\n",
       "Account                                                                      \n",
       "Total Revenue     21729.00  22180.0  20379.00  23796.00  20531.00  20614.0   \n",
       "Gross Profit      14568.00  14712.0  13172.00  13924.00  12809.00  12635.0   \n",
       "Operating Income   6784.00   6385.0   5793.00   6026.00   5283.00   4190.0   \n",
       "Net Income         4985.00  -3195.0   4902.00   5018.00   3756.00   3122.0   \n",
       "EPS                   0.61     -0.4      0.61      0.62      0.47      0.4   \n",
       "\n",
       "                     Q3 16    Q4 16    Q1 17     Q2 17     Q3 17     Q4 17  \\\n",
       "Account                                                                      \n",
       "Total Revenue     21928.00  25826.0  23212.0  25605.00  24538.00  28918.00   \n",
       "Gross Profit      14084.00  15925.0  15152.0  17560.00  16260.00  17854.00   \n",
       "Operating Income   6715.00   7905.0   6723.0  10279.00   7708.00   8679.00   \n",
       "Net Income         5667.00   6267.0   5486.0   8069.00   6576.00  -6302.00   \n",
       "EPS                   0.72      0.8      0.7      1.03      0.84     -0.82   \n",
       "\n",
       "                     Q1 18     Q2 18     Q3 18     Q4 18     Q1 19    Q2 19  \\\n",
       "Account                                                                       \n",
       "Total Revenue     26819.00  30085.00  29084.00  32471.00  30571.00  33717.0   \n",
       "Gross Profit      17550.00  20343.00  19179.00  20048.00  20401.00  23305.0   \n",
       "Operating Income   8292.00  10379.00   9955.00  10258.00  10341.00  12405.0   \n",
       "Net Income         7424.00   8873.00   8824.00   8420.00   8809.00  13187.0   \n",
       "EPS                   0.95      1.14      1.14      1.08      1.14      1.7   \n",
       "\n",
       "                     Q3 19  \n",
       "Account                     \n",
       "Total Revenue     33055.00  \n",
       "Gross Profit      22649.00  \n",
       "Operating Income  12686.00  \n",
       "Net Income        10678.00  \n",
       "EPS                   1.38  "
      ]
     },
     "execution_count": 2,
     "metadata": {},
     "output_type": "execute_result"
    }
   ],
   "source": [
    "msft = pd.read_excel('/Users/brandongoldney/Documents/Projects/Python_PPTX/MSFT_Financials.xls', index_col=False)\n",
    "\n",
    "# Remove any unnamed columns\n",
    "cols = [string for string in msft.columns if string.lower()[:7] != 'unnamed']\n",
    "msft = msft[cols]\n",
    "\n",
    "# Set rows as the index\n",
    "msft = msft.set_index(['Account'])\n",
    "\n",
    "#Convert any columns inported as \"object\" to \"float32\"\n",
    "cols = msft.select_dtypes(exclude=['float']).columns\n",
    "msft[cols] = msft[cols].apply(pd.to_numeric, downcast='float', errors='coerce')\n",
    "\n",
    "# Drop any columns with nan values\n",
    "msft = msft.dropna(axis=1, how = 'any')\n",
    "\n",
    "msft.head()\n"
   ]
  },
  {
   "cell_type": "markdown",
   "metadata": {},
   "source": [
    "# Load Presentation as Object"
   ]
  },
  {
   "cell_type": "code",
   "execution_count": 3,
   "metadata": {},
   "outputs": [],
   "source": [
    "# This loads the MASTER presentation\n",
    "prs = Presentation('General_Slides - MASTER.pptx')"
   ]
  },
  {
   "cell_type": "code",
   "execution_count": 4,
   "metadata": {},
   "outputs": [
    {
     "name": "stdout",
     "output_type": "stream",
     "text": [
      "0, TITLE (1)\n",
      "4, SLIDE_NUMBER (13)\n",
      "15, CHART (8)\n"
     ]
    }
   ],
   "source": [
    "# The code below shows the idx values for each placeholder\n",
    "slide = prs.slides[1]\n",
    "\n",
    "for shape in slide.shapes:\n",
    "     if shape.is_placeholder:\n",
    "         phf = shape.placeholder_format\n",
    "         print('%d, %s' % (phf.idx, phf.type))"
   ]
  },
  {
   "cell_type": "markdown",
   "metadata": {},
   "source": [
    "**Slide 1: Leverage**"
   ]
  },
  {
   "cell_type": "code",
   "execution_count": 5,
   "metadata": {},
   "outputs": [],
   "source": [
    "# The code below is needed to access the chart on the second slide (i.e. prs.slides[1])\n",
    "slide = prs.slides[1] \n",
    "chart = slide.shapes[2].chart # Not sure why choosing shapes[1] works but it does work\n",
    "\n",
    "chart_data = CategoryChartData()"
   ]
  },
  {
   "cell_type": "code",
   "execution_count": 6,
   "metadata": {},
   "outputs": [],
   "source": [
    "# Create window for lookback period - this determines how many historical periods are included (i.e. -4 means 4 historical periods)\n",
    "window = -12\n",
    "\n",
    "# Create variables to be place into chart\n",
    "debt_ebitda = msft.loc['Total Debt / EBITDA'].iloc[window:]\n",
    "lev_limit = msft.loc['Leverage Limit'].iloc[window:]\n",
    "equity_assets = msft.loc['Equity / Total Assets'].iloc[window:]\n",
    "\n",
    "# Create dates\n",
    "dates_str = msft.columns.astype(str)\n",
    "dates_str = dates_str[window:]\n",
    "\n",
    "# Create chart_data\n",
    "chart_data = CategoryChartData()\n",
    "\n",
    "# This updates the dates (i.e. categories)\n",
    "chart_data.categories = dates_str\n",
    "\n",
    "# Update the actual data\n",
    "chart_data.add_series('Total Debt / EBITDA', (debt_ebitda))\n",
    "chart_data.add_series('Leverage Limit', lev_limit)\n",
    "chart_data.add_series('Equity / Total Assets', equity_assets)\n",
    "\n",
    "# Replace existing data\n",
    "chart.replace_data(chart_data)\n",
    "chart.has_major_gridlines = False"
   ]
  },
  {
   "cell_type": "markdown",
   "metadata": {},
   "source": [
    "**Slide 4: Composition of Operating Cash Flow**"
   ]
  },
  {
   "cell_type": "code",
   "execution_count": 7,
   "metadata": {},
   "outputs": [
    {
     "name": "stdout",
     "output_type": "stream",
     "text": [
      "0, TITLE (1)\n",
      "1, OBJECT (7)\n",
      "4, SLIDE_NUMBER (13)\n"
     ]
    }
   ],
   "source": [
    "# The code below shows the idx values for each placeholder\n",
    "slide = prs.slides[3]\n",
    "\n",
    "for shape in slide.shapes:\n",
    "     if shape.is_placeholder:\n",
    "         phf = shape.placeholder_format\n",
    "         print('%d, %s' % (phf.idx, phf.type))"
   ]
  },
  {
   "cell_type": "code",
   "execution_count": 8,
   "metadata": {},
   "outputs": [],
   "source": [
    "# The code below is needed to access the chart on the third slide (i.e. prs.slides[2])\n",
    "slide = prs.slides[3]\n",
    "chart = slide.shapes[1].chart\n",
    "\n",
    "chart_data = CategoryChartData()"
   ]
  },
  {
   "cell_type": "code",
   "execution_count": 9,
   "metadata": {},
   "outputs": [],
   "source": [
    "# Create window for lookback period - this determines how many historical periods are included (i.e. -4 means 4 historical periods)\n",
    "window = -7\n",
    "\n",
    "# Create variables to be place into chart\n",
    "net_income = msft.loc['Net Income'].iloc[window:]\n",
    "dep_amort = msft.loc['Depreciation & Amort.'].iloc[window:]\n",
    "non_cash = msft.loc['Other Non-Cash'].iloc[window:]\n",
    "delta_wc = msft.loc['Change in Working Capital'].iloc[window:]\n",
    "cfo = msft.loc['Cash from Operations'].iloc[window:]\n",
    "\n",
    "\n",
    "# Create date\n",
    "date = pd.Series(msft.columns[-7:])"
   ]
  },
  {
   "cell_type": "code",
   "execution_count": 10,
   "metadata": {},
   "outputs": [],
   "source": [
    "# Create chart_data\n",
    "chart_data = CategoryChartData()\n",
    "\n",
    "# This updates the dates (i.e. categories)\n",
    "chart_data.categories = date\n",
    "\n",
    "# Update the actual data\n",
    "chart_data.add_series('Net Income - slide', net_income)\n",
    "chart_data.add_series('Depreciation & Amort.', dep_amort)\n",
    "chart_data.add_series('Other Non-Cash', non_cash)\n",
    "chart_data.add_series('Change in Operating Act.', delta_wc)\n",
    "chart_data.add_series('Operating Cash Flow', cfo)\n",
    "\n",
    "# Replace existing data\n",
    "chart.replace_data(chart_data)\n",
    "chart.has_major_gridlines = False"
   ]
  },
  {
   "cell_type": "markdown",
   "metadata": {},
   "source": [
    "**Slide 6: Table**"
   ]
  },
  {
   "cell_type": "code",
   "execution_count": 11,
   "metadata": {},
   "outputs": [
    {
     "name": "stdout",
     "output_type": "stream",
     "text": [
      "0, Title 2\n",
      "1, Content Placeholder 4\n",
      "4, Slide Number Placeholder 3\n"
     ]
    }
   ],
   "source": [
    "# The code below shows the idx values for each placeholder\n",
    "slide = prs.slides[5]\n",
    "for shape in slide.placeholders:\n",
    "     print('%d, %s' % (shape.placeholder_format.idx, shape.name))"
   ]
  },
  {
   "cell_type": "code",
   "execution_count": 12,
   "metadata": {},
   "outputs": [],
   "source": [
    "# Edit the sixth slide\n",
    "slide = prs.slides[5]\n",
    "\n",
    "# Update Slide Title\n",
    "title_placeholder = slide.shapes.title\n",
    "title_placeholder.text = 'Key Metrics' # the variable slide_title is defined above in the \"Create Dynamic Text\" section\n",
    "\n",
    "# Format Slide Title\n",
    "text_frame = title_placeholder.text_frame\n",
    "p = text_frame.paragraphs[0]\n",
    "run = p.add_run()\n",
    "font = run.font\n",
    "font.name = 'Arial'\n",
    "font.size = Pt(18)\n",
    "font.bold = False\n",
    "font.color.rgb = RGBColor(109,109,109)"
   ]
  },
  {
   "cell_type": "markdown",
   "metadata": {},
   "source": [
    "**Create data for table**"
   ]
  },
  {
   "cell_type": "code",
   "execution_count": 13,
   "metadata": {},
   "outputs": [],
   "source": [
    "# This variable will determine how many periods of data are shown.  \"-20\" means select the last 20 rows of data. \n",
    "# In other words, select today minus 20 quarters. \n",
    "\n",
    "# NOTE: window does not have a negative before the 8 because the negative will mess up the for loops below\n",
    "window = 8\n",
    "\n",
    "# Create variables for chart data\n",
    "ebitda = msft.loc['EBITDA',:][window:-2]\n",
    "levered_fcf = msft.loc['Levered Free Cash Flow',:][window:-2]\n",
    "leverage = msft.loc['Leverage',:][window:-2]\n",
    "\n",
    "# Round variables to two digits\n",
    "leverage = round(leverage,0)\n",
    "levered_fcf = round(levered_fcf,0)\n",
    "\n"
   ]
  },
  {
   "cell_type": "code",
   "execution_count": 14,
   "metadata": {},
   "outputs": [],
   "source": [
    "# Convert to strings because python_pptx tables can only handle strings\n",
    "ebitda = [str(i) for i in ebitda]\n",
    "levered_fcf = [str(i) for i in levered_fcf]\n",
    "leverage = [str(i) for i in leverage]\n",
    "\n",
    "# Add x to the end of every item in leverage\n",
    "leverage = [leverage + 'x' for leverage in leverage]\n",
    "#leverage"
   ]
  },
  {
   "cell_type": "code",
   "execution_count": 15,
   "metadata": {},
   "outputs": [],
   "source": [
    "# Add comma after every third number\n",
    "ebitda2 = []\n",
    "for i in range(0, len(ebitda)):\n",
    "    ebitda2.append(\"{:,}\".format(float(ebitda[i])))\n",
    "\n",
    "# Add comma after every third number\n",
    "levered_fcf2 = []\n",
    "for i in range(0, len(ebitda)):\n",
    "    levered_fcf2.append(\"{:,}\".format(float(ebitda[i])))"
   ]
  },
  {
   "cell_type": "code",
   "execution_count": 16,
   "metadata": {},
   "outputs": [],
   "source": [
    "# Create dates\n",
    "table_dates = msft.columns[-9:].tolist() # 9 instead of 8 because need to add the '$ Millions' in"
   ]
  },
  {
   "cell_type": "code",
   "execution_count": 17,
   "metadata": {},
   "outputs": [],
   "source": [
    "# Remove the \".0\" from each entry in ebitda\n",
    "ebitda2 = [ebitda2[:-2] for ebitda2 in ebitda2]\n",
    "# Remove the \".0\" from each entry in leveraged_fcf\n",
    "levered_fcf2 = [levered_fcf2[:-2] for levered_fcf2 in levered_fcf2]"
   ]
  },
  {
   "cell_type": "code",
   "execution_count": null,
   "metadata": {},
   "outputs": [],
   "source": [
    "# Create table object - this is needed to add the data to the table\n",
    "table = slide.shapes[2].table\n",
    "table_data = CategoryChartData()"
   ]
  },
  {
   "cell_type": "code",
   "execution_count": null,
   "metadata": {},
   "outputs": [],
   "source": [
    "for i in range(0, window):\n",
    "        table.cell(0,i+1).text = table_dates[i] # start at column i + 1 to avoid writing over the row names\n",
    "        \n",
    "for i in range(0, window):\n",
    "        table.cell(1,i+1).text = ebitda2[i]\n",
    "        font.size = Pt(10)\n",
    "\n",
    "for i in range(0, window):\n",
    "        table.cell(2,i+1).text = levered_fcf2[i]\n",
    "        font.size = Pt(10)\n",
    "\n",
    "for i in range(0, window):\n",
    "        table.cell(3,i+1).text = leverage[i]\n",
    "        font.size = Pt(10)"
   ]
  },
  {
   "cell_type": "markdown",
   "metadata": {},
   "source": [
    "# Save Presentation"
   ]
  },
  {
   "cell_type": "code",
   "execution_count": null,
   "metadata": {},
   "outputs": [],
   "source": [
    "prs.save('General_Slides_OUTPUT.pptx')"
   ]
  },
  {
   "cell_type": "code",
   "execution_count": null,
   "metadata": {},
   "outputs": [],
   "source": []
  }
 ],
 "metadata": {
  "kernelspec": {
   "display_name": "Python 3",
   "language": "python",
   "name": "python3"
  },
  "language_info": {
   "codemirror_mode": {
    "name": "ipython",
    "version": 3
   },
   "file_extension": ".py",
   "mimetype": "text/x-python",
   "name": "python",
   "nbconvert_exporter": "python",
   "pygments_lexer": "ipython3",
   "version": "3.7.4"
  }
 },
 "nbformat": 4,
 "nbformat_minor": 2
}
